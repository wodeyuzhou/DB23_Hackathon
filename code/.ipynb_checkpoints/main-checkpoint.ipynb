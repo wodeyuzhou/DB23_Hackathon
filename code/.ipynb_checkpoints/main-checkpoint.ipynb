{
 "cells": [
  {
   "cell_type": "code",
   "execution_count": 3,
   "id": "b35d15f8-c848-48c7-907e-677c80bee461",
   "metadata": {},
   "outputs": [],
   "source": [
    "import numpy as np\n",
    "import pandas as pd\n",
    "from sklearn.ensemble import RandomForestRegressor, GradientBoostingRegressor\n",
    "from sklearn.metrics import mean_squared_error\n",
    "\n",
    "train = pd.read_csv(\"../data/train.csv\", index_col=0)\n",
    "test = pd.read_csv(\"../data/test.csv\", index_col=0)\n",
    "\n",
    "data = pd.concat([train, test], axis=0)\n",
    "data.index = pd.to_datetime(data.index)\n",
    "\n",
    "data['year'] = data.index.year\n",
    "data['month'] = data.index.month\n",
    "data['day'] = data.index.day\n",
    "data['weekday'] = data.index.weekday\n",
    "data['dayofweek'] = data.index.dayofweek #weekday를 대체 (weekday, dayofweek 어떤 피쳐든 점수 동일했음)\n",
    "data['hour'] = data.index.hour\n",
    "data['year_season'] = data['year'] + data['season'] / 10\n",
    "    #data['year_season']: 년도와 계절 정보를 결합하여 새로운 특징을 생성\n",
    "    #계절 정보가 소수점으로 추가되어, 각 년도의 계절을 구별할 수 있게 함\n",
    "\n",
    "test_start = '2012-12-01'\n",
    "train_data = data[data.index < test_start].copy()\n",
    "test_data = data[data.index >= test_start].copy()\n",
    "\n",
    "\n",
    "# 대여 수 ('cnt')에 로그 변환을 적용\n",
    "train_data['cnt_log'] = np.log(train_data['cnt'] + 1)\n",
    "\n",
    "\n",
    "#groupby와 median 함수를 사용하여 각 'year_season' 그룹별로 'cnt'의 중앙값을 계산합니다.\n",
    "#이 중앙값을 'count_season'이라는 새로운 열로 데이터프레임에 추가하고, 이는 계절적 요인을 반영한 추가적인 특징이 됨.\n",
    "by_season = train_data.groupby('year_season')['cnt'].median()\n",
    "by_season = by_season.rename('count_season')\n",
    "\n",
    "\n",
    "train_data = train_data.join(by_season, on='year_season')\n",
    "test_data = test_data.join(by_season, on='year_season')\n",
    "\n",
    "#두 가지 머신러닝 모델을 사용: 그래디언트 부스팅 (GBDT)과 랜덤 포레스트 (RF).\n",
    "#random_state=0은 모델의 결과가 일관되게 재현될 수 있도록 설정\n",
    "regs = {\"gbdt\": GradientBoostingRegressor(random_state=0),\n",
    "        \"rf\": RandomForestRegressor(random_state=0, n_jobs=-1)}\n",
    "\n",
    "features = ['season', 'holiday', 'workingday', 'weathersit', 'temp', 'atemp', 'hum', 'windspeed', 'year', 'hour', 'dayofweek', 'count_season']\n",
    "\n",
    "preds = {}\n",
    "#각 모델에 대해 학습을 수행하고, 테스트 데이터에 대한 예측을 수행\n",
    "for name, reg in regs.items():\n",
    "    if name == 'gbdt':\n",
    "        reg.set_params(n_estimators=1000, min_samples_leaf=6)\n",
    "    elif name == 'rf':\n",
    "        reg.set_params(n_estimators=1000, min_samples_leaf=2)\n",
    "\n",
    "    reg.fit(train_data[features], train_data['cnt_log'])\n",
    "    #이 단계에서는 특징(feature)과 대상 변수(target variable)를 모델에 제공\n",
    "    \n",
    "    preds[name] = reg.predict(test_data[features])\n",
    "    preds[name] = np.exp(preds[name]) - 1 # 원본 scale로 transform\n",
    "\n",
    "test_pred = 0.5 * preds['gbdt'] + 0.5 * preds['rf']\n",
    "test_pred[test_pred < 0] = 0 #예측값이 음수인 경우를 0으로 처리. 자전거 대여 수는 음수가 될 수 없기 때문"
   ]
  },
  {
   "cell_type": "code",
   "execution_count": 4,
   "id": "07b38e55-bdf9-46e3-aad9-606e92d14497",
   "metadata": {},
   "outputs": [],
   "source": [
    "submission_df = pd.read_csv('../data/sample_submission.csv')\n",
    "submission_df['cnt'] = test_pred\n",
    "submission_df.to_csv('../submission/final_submission1.csv', index=False)"
   ]
  }
 ],
 "metadata": {
  "kernelspec": {
   "display_name": "Python 3 (ipykernel)",
   "language": "python",
   "name": "python3"
  },
  "language_info": {
   "codemirror_mode": {
    "name": "ipython",
    "version": 3
   },
   "file_extension": ".py",
   "mimetype": "text/x-python",
   "name": "python",
   "nbconvert_exporter": "python",
   "pygments_lexer": "ipython3",
   "version": "3.8.17"
  },
  "widgets": {
   "application/vnd.jupyter.widget-state+json": {
    "state": {},
    "version_major": 2,
    "version_minor": 0
   }
  }
 },
 "nbformat": 4,
 "nbformat_minor": 5
}
